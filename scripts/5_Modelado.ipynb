{
 "cells": [
  {
   "cell_type": "code",
   "execution_count": 38,
   "id": "7826b022-a4fd-41bb-9952-f69b85d193ac",
   "metadata": {},
   "outputs": [
    {
     "name": "stdout",
     "output_type": "stream",
     "text": [
      "(320, 6)\n",
      "(320,)\n",
      "0.24.1\n"
     ]
    }
   ],
   "source": [
    "# Cargar los datos de entrenamiento\n",
    "import numpy as np\n",
    "train = np.load('../final_features/train.npy')\n",
    "\n",
    "X_train = train[:,:-1]\n",
    "y_train = train[:, -1]\n",
    "\n",
    "print(np.shape(X_train))\n",
    "print(np.shape(y_train))\n",
    "import sklearn\n",
    "print(sklearn.__version__)"
   ]
  },
  {
   "cell_type": "code",
   "execution_count": 39,
   "id": "51843adb-08d7-4498-9aec-19bb7d41f83e",
   "metadata": {
    "collapsed": true,
    "jupyter": {
     "outputs_hidden": true
    },
    "tags": []
   },
   "outputs": [
    {
     "ename": "ImportError",
     "evalue": "cannot import name 'Kfold' from 'sklearn.model_selection' (C:\\Users\\joano\\anaconda3\\lib\\site-packages\\sklearn\\model_selection\\__init__.py)",
     "output_type": "error",
     "traceback": [
      "\u001b[1;31m---------------------------------------------------------------------------\u001b[0m",
      "\u001b[1;31mImportError\u001b[0m                               Traceback (most recent call last)",
      "\u001b[1;32m<ipython-input-39-825c2b6ec52d>\u001b[0m in \u001b[0;36m<module>\u001b[1;34m\u001b[0m\n\u001b[0;32m      2\u001b[0m \u001b[1;32mfrom\u001b[0m \u001b[0msklearn\u001b[0m\u001b[1;33m.\u001b[0m\u001b[0mlinear_model\u001b[0m \u001b[1;32mimport\u001b[0m \u001b[0mLogisticRegression\u001b[0m\u001b[1;33m\u001b[0m\u001b[1;33m\u001b[0m\u001b[0m\n\u001b[0;32m      3\u001b[0m \u001b[1;32mfrom\u001b[0m \u001b[0msklearn\u001b[0m\u001b[1;33m.\u001b[0m\u001b[0mneural_network\u001b[0m \u001b[1;32mimport\u001b[0m \u001b[0mMLPClassifier\u001b[0m\u001b[1;33m\u001b[0m\u001b[1;33m\u001b[0m\u001b[0m\n\u001b[1;32m----> 4\u001b[1;33m \u001b[1;32mfrom\u001b[0m \u001b[0msklearn\u001b[0m\u001b[1;33m.\u001b[0m\u001b[0mmodel_selection\u001b[0m \u001b[1;32mimport\u001b[0m \u001b[0mcross_val_score\u001b[0m\u001b[1;33m,\u001b[0m \u001b[0mKfold\u001b[0m\u001b[1;33m\u001b[0m\u001b[1;33m\u001b[0m\u001b[0m\n\u001b[0m\u001b[0;32m      5\u001b[0m \u001b[1;33m\u001b[0m\u001b[0m\n\u001b[0;32m      6\u001b[0m algoritmos = {'LOGR': LogisticRegression(penalty='l2', solver='saga', max_iter=1000, random_state=42),\n",
      "\u001b[1;31mImportError\u001b[0m: cannot import name 'Kfold' from 'sklearn.model_selection' (C:\\Users\\joano\\anaconda3\\lib\\site-packages\\sklearn\\model_selection\\__init__.py)"
     ]
    }
   ],
   "source": [
    "# Definir los modelos de clasificación\n",
    "from sklearn.linear_model import LogisticRegression\n",
    "from sklearn.neural_network import MLPClassifier\n",
    "from sklearn.model_selection import cross_val_score, Kfold\n",
    "\n",
    "algoritmos = {'LOGR': LogisticRegression(penalty='l2', solver='saga', max_iter=1000, random_state=42),\n",
    "             'MLP': MLPClassifier(hidden_layer_sizes=[8,4], activation='relu', solver='sgd', batch_size='auto',\n",
    "                                  learning_rate='adaptive', learning_rate_init=0.01, max_iter=1000, random_state=42)}\n",
    "\n",
    "# Cross-validation interno en k=5 bolsas, no he conseguido arreglarlo debe de ser relacionado con la versión\n",
    "\n",
    "\n",
    "results={}\n",
    "for nombre, alg in algoritmos.items():\n",
    "    results[nombre] = cross_val_score(alg, X_train, y_train, cv=Kfold(n_splits=5, shuffle=True, random_state=42))\n",
    "    print(nombre + ':  Accuracy:  %0.4f +/- %0.4f'% (results[nombre].mean(), results[nombre].std()))"
   ]
  },
  {
   "cell_type": "code",
   "execution_count": 84,
   "id": "5fbe9a78-999c-45ee-9f07-f2050a277449",
   "metadata": {},
   "outputs": [
    {
     "name": "stdout",
     "output_type": "stream",
     "text": [
      "Mínimo error cometido:  0.5061238654746317\n",
      "Número de iteraciones llevadas a cabo:  404\n"
     ]
    }
   ],
   "source": [
    "# Definimos el modelo definitivo.\n",
    "algoritmos = {'LOGR': LogisticRegression(penalty='l2', solver='saga', max_iter=10000, random_state=42),\n",
    "             'MLP': MLPClassifier(hidden_layer_sizes=[200,100], activation='relu', solver='adam', batch_size='auto',\n",
    "                                  learning_rate='adaptive', learning_rate_init=0.001, max_iter=1000, random_state=42)}\n",
    "\n",
    "LOGR_definitivo = algoritmos['LOGR'].fit(X_train, y_train)\n",
    "MLP_definitivo = algoritmos['MLP'].fit(X_train, y_train)\n",
    "\n",
    "# Atributos se obtienen durante el entrenamiento\n",
    "print('Mínimo error cometido: ', MLP_definitivo.best_loss_)\n",
    "print('Número de iteraciones llevadas a cabo: ', MLP_definitivo.n_iter_)"
   ]
  },
  {
   "cell_type": "markdown",
   "id": "085726e0-f4c0-4575-a9c7-56c953b9b91b",
   "metadata": {},
   "source": [
    "Como podemos ver la mínimo error es muy alto, aunque mejoremos el clasificador a partir de los hiperparametros segurmanete, es tan mal definidos la selección de caracteres, aunque seguiremos para adelante con estos modelos"
   ]
  },
  {
   "cell_type": "code",
   "execution_count": 85,
   "id": "880f261a-4ead-45d7-81c0-7f56b0ddf7b2",
   "metadata": {},
   "outputs": [],
   "source": [
    "# Guardar modelos\n",
    "import os\n",
    "if not os.path.exists('../models'):\n",
    "    os.mkdir('../models')\n",
    "\n",
    "import pickle\n",
    "with open('../models/LOGR.pickle', 'wb') as fw:\n",
    "    pickle.dump(LOGR_definitivo, fw)\n",
    "with open('../models/MLP.pickle', 'wb') as fw:\n",
    "    pickle.dump(MLP_definitivo, fw)\n"
   ]
  }
 ],
 "metadata": {
  "kernelspec": {
   "display_name": "Python 3",
   "language": "python",
   "name": "python3"
  },
  "language_info": {
   "codemirror_mode": {
    "name": "ipython",
    "version": 3
   },
   "file_extension": ".py",
   "mimetype": "text/x-python",
   "name": "python",
   "nbconvert_exporter": "python",
   "pygments_lexer": "ipython3",
   "version": "3.8.8"
  }
 },
 "nbformat": 4,
 "nbformat_minor": 5
}
