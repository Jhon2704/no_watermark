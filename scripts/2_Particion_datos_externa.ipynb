{
 "cells": [
  {
   "cell_type": "code",
   "execution_count": 40,
   "id": "01fbe611-4061-47c9-8d8c-d50eb3e6bb32",
   "metadata": {},
   "outputs": [
    {
     "name": "stdout",
     "output_type": "stream",
     "text": [
      "                    ID  Class\n",
      "0      MARCA_2 (1).png    Sin\n",
      "1      MARCA_2 (2).png    Sin\n",
      "2      MARCA_2 (3).png    Sin\n",
      "3      MARCA_2 (4).png    Sin\n",
      "4      MARCA_2 (5).png    Sin\n",
      "..                 ...    ...\n",
      "395  MARCA_1 (196).png  Marca\n",
      "396  MARCA_1 (197).png  Marca\n",
      "397  MARCA_1 (198).png  Marca\n",
      "398  MARCA_1 (199).png  Marca\n",
      "399  MARCA_1 (200).png  Marca\n",
      "\n",
      "[400 rows x 2 columns]\n"
     ]
    }
   ],
   "source": [
    "import pandas as pd\n",
    "import numpy as np\n",
    "\n",
    "# Leer la información del documento Excel original\n",
    "archivo = '../database.csv'\n",
    "\n",
    "df = pd.read_csv(archivo, sep=';')\n",
    "\n",
    "print(df)"
   ]
  },
  {
   "cell_type": "code",
   "execution_count": 41,
   "id": "efe8125d-d4f8-46c4-88c8-3097bb6d6b4c",
   "metadata": {},
   "outputs": [],
   "source": [
    "#Particion externa tipo hold out 80-20%\n",
    "from sklearn.model_selection import train_test_split\n",
    "train, test = train_test_split(df, test_size=0.2, shuffle=True, random_state=42) # hold-out"
   ]
  },
  {
   "cell_type": "code",
   "execution_count": 42,
   "id": "b5caeddb-9fd6-4f5b-80a8-49e99aa71e68",
   "metadata": {},
   "outputs": [],
   "source": [
    "# Aleatorizar los dataframes\n",
    "train = train.sample(frac=1)\n",
    "test = test.sample(frac=1)\n"
   ]
  },
  {
   "cell_type": "code",
   "execution_count": 43,
   "id": "5fc94d7e-3788-47f3-a950-709562c62dd0",
   "metadata": {},
   "outputs": [],
   "source": [
    "# Guardado de los modelos\n",
    "import os\n",
    "if not os.path.exists('../partitions'):\n",
    "    os.mkdir('../partitions')\n",
    "train.to_csv('../partitions/train.csv', sep=';')\n",
    "test.to_csv('../partitions/test.csv', sep=';')"
   ]
  }
 ],
 "metadata": {
  "kernelspec": {
   "display_name": "Python 3",
   "language": "python",
   "name": "python3"
  },
  "language_info": {
   "codemirror_mode": {
    "name": "ipython",
    "version": 3
   },
   "file_extension": ".py",
   "mimetype": "text/x-python",
   "name": "python",
   "nbconvert_exporter": "python",
   "pygments_lexer": "ipython3",
   "version": "3.8.8"
  }
 },
 "nbformat": 4,
 "nbformat_minor": 5
}
