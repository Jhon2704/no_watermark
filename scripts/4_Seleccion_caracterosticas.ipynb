{
 "cells": [
  {
   "cell_type": "code",
   "execution_count": 134,
   "id": "54c35ea5-e6b7-41fd-b7d2-62702b26dfde",
   "metadata": {
    "tags": []
   },
   "outputs": [
    {
     "name": "stdout",
     "output_type": "stream",
     "text": [
      "(16,)\n"
     ]
    }
   ],
   "source": [
    "# Cargar los datos de entrenamiento\n",
    "import numpy as np\n",
    "train_matrix = np.load('../features/matriz_datos_train.npy')\n",
    "\n",
    "# Seleccionar las features y target\n",
    "X_train = train_matrix[:,:-1]\n",
    "y_train = train_matrix[:, -1]\n",
    "\n",
    "print(np.shape(X_train[0]))"
   ]
  },
  {
   "cell_type": "code",
   "execution_count": 135,
   "id": "2f538d91-e199-4af7-979a-887a666262c9",
   "metadata": {},
   "outputs": [
    {
     "name": "stdout",
     "output_type": "stream",
     "text": [
      "[-0.43226574 -0.43226574  0.43226574  0.17613115  0.18389278  0.6376569\n",
      " -0.49742942 -0.26505643  0.          0.35852753  0.         -0.17162313\n",
      "  0.          0.12151457  0.24189279 -0.47630145]\n"
     ]
    }
   ],
   "source": [
    "# Estandarización de los datos de entrenamiento\n",
    "from sklearn.preprocessing import StandardScaler\n",
    "estandarizador = StandardScaler()\n",
    "estandarizador.fit(X_train)\n",
    "mu = estandarizador.mean_\n",
    "sigma = np.sqrt(estandarizador.var_)\n",
    "X_train=estandarizador.transform(X_train)\n",
    "\n",
    "print(X_train[0])\n",
    "#print(X_train_new[0])"
   ]
  },
  {
   "cell_type": "code",
   "execution_count": 136,
   "id": "d1f5f9bd-3a57-4576-a012-ddfa0f739c3e",
   "metadata": {},
   "outputs": [
    {
     "name": "stdout",
     "output_type": "stream",
     "text": [
      "0: no normal  ---- 1: sí normal:  [1. 1. 1. 1. 1. 1. 0. 0. 0. 1. 0. 1. 0. 1. 1. 1.]\n"
     ]
    }
   ],
   "source": [
    "# SELECCIÓN DE LOS ATRIBUTOS (CARACTERÍSTICAS)\n",
    "from scipy.stats import kstest # Prueba de Kolmogorov-Smirnov\n",
    "\n",
    "alpha = 0.01 # nivel de confianza del 99%\n",
    "h_norm = np.zeros(X_train.shape[1])\n",
    "for i in range(0, X_train.shape[1]):\n",
    "    _, pvalue = kstest(X_train[:, i], 'norm')\n",
    "    \n",
    "    # Contraste de hipótesis\n",
    "    if pvalue<=alpha:\n",
    "        h_norm[i] = 0 # Los datos NO siguen una distribución normal N(0,1)\n",
    "    else:\n",
    "        h_norm[i] = 1 # Los datos SÍ siguen una distribución normal N(0,1)\n",
    "\n",
    "print('0: no normal  ---- 1: sí normal: ', h_norm)\n",
    "\n",
    "# Eliminamos las variables que no son discriminatorias.\n",
    "id_no_disc = np.where(h_norm==0)\n",
    "X_train_disc = np.delete(X_train, id_no_disc[0], axis=1)\n",
    "mu_disc = np.delete(mu, id_no_disc[0])\n",
    "sigma_disc = np.delete(sigma, id_no_disc[0])\n",
    "\n",
    "#print(X_train_disc)\n",
    "#print(np.shape(mu_disc))\n",
    "#print(np.shape(sigma_disc))\n",
    "\n"
   ]
  },
  {
   "cell_type": "code",
   "execution_count": 137,
   "id": "b0607a16-4b42-4866-bd0d-fd3972cb1f66",
   "metadata": {},
   "outputs": [
    {
     "data": {
      "image/png": "[encoded data removed]",
      "text/plain": [
       "<Figure size 432x288 with 1 Axes>"
      ]
     },
     "metadata": {
      "needs_background": "light"
     },
     "output_type": "display_data"
    },
    {
     "name": "stdout",
     "output_type": "stream",
     "text": [
      "[1 2 3 4 9]\n",
      "(320, 6)\n"
     ]
    }
   ],
   "source": [
    "# Realizamos un análisis de CORRELACIÓN para ver la dependencia entre pares de variables\n",
    "\n",
    "R = np.corrcoef(X_train_disc.transpose())\n",
    "\n",
    "import matplotlib.pyplot as plt\n",
    "plt.imshow(R, cmap='jet')\n",
    "plt.show()\n",
    "\n",
    "th_cor = 0.9\n",
    "\n",
    "idx = abs(R)>th_cor\n",
    "mat_tri_sup = np.triu(idx,1)\n",
    "\n",
    "\n",
    "row, col = np.where(mat_tri_sup==True)\n",
    "id_corr = np.unique(col)\n",
    "print(id_corr)\n",
    "\n",
    "\n",
    "# Eliminamos las variables correlacionadas\n",
    "X_final = np.delete(X_train_disc, id_corr, axis=1)\n",
    "mu_final = np.delete(mu_disc, id_corr)\n",
    "sigma_final = np.delete(sigma_disc, id_corr)\n",
    "\n",
    "print(np.shape(X_final))"
   ]
  },
  {
   "cell_type": "code",
   "execution_count": 138,
   "id": "d8cadb1d-3167-49b5-ba82-35e89a9dc3a9",
   "metadata": {},
   "outputs": [],
   "source": [
    "# Guardado de matriz final de características\n",
    "import os\n",
    "if not os.path.exists('../final_features'):\n",
    "    os.mkdir('../final_features')\n",
    "\n",
    "y_train_exp = np.expand_dims(y_train, axis=1)\n",
    "train_matrix = np.concatenate((X_final, y_train_exp), axis=1)\n",
    "np.save('../final_features/train.npy', train_matrix)"
   ]
  },
  {
   "cell_type": "code",
   "execution_count": 140,
   "id": "836d1fb8-73dd-42c4-aaa4-66ca4f7d5392",
   "metadata": {},
   "outputs": [
    {
     "name": "stdout",
     "output_type": "stream",
     "text": [
      "(80, 6)\n"
     ]
    }
   ],
   "source": [
    "# Repetimos el proceso para la selección de las características del test\n",
    "\n",
    "test_matrix = np.load('../features/matriz_datos_test.npy')\n",
    "\n",
    "# Seleccionar las características y la clase\n",
    "X_test = test_matrix[:,:-1]\n",
    "y_test = test_matrix[:, -1]\n",
    "\n",
    "# Eliminamos las características que no son discriminatorias durante entrenamiento\n",
    "# id_no_disc\n",
    "X_test_disc = np.delete(X_test, id_no_disc[0], axis=1)\n",
    "\n",
    "# Eliminamos las características correladas durante entrenamiento\n",
    "# id_corr\n",
    "X_test_final = np.delete(X_test_disc, id_corr, axis=1)\n",
    "\n",
    "# Estandarización de las características del test en base a la mu y la sigma del entrenamiento\n",
    "X_test_final = (X_test_final-mu_final)/sigma_final\n",
    "\n",
    "# Guardado de la matriz de datos de test\n",
    "y_test_exp = np.expand_dims(y_test, axis=1)\n",
    "test_matrix = np.concatenate((X_test_final, y_test_exp), axis=1)\n",
    "\n",
    "np.save('../final_features/test.npy', test_matrix)\n",
    "#es la selección final para el test\n",
    "print(np.shape(X_test_final))"
   ]
  }
 ],
 "metadata": {
  "kernelspec": {
   "display_name": "Python 3",
   "language": "python",
   "name": "python3"
  },
  "language_info": {
   "codemirror_mode": {
    "name": "ipython",
    "version": 3
   },
   "file_extension": ".py",
   "mimetype": "text/x-python",
   "name": "python",
   "nbconvert_exporter": "python",
   "pygments_lexer": "ipython3",
   "version": "3.8.8"
  }
 },
 "nbformat": 4,
 "nbformat_minor": 5
}
