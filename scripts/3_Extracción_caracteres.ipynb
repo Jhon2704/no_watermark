{
 "cells": [
  {
   "cell_type": "code",
   "execution_count": 317,
   "id": "a228157c-b0f0-4373-a5b7-103712adbf47",
   "metadata": {
    "tags": []
   },
   "outputs": [
    {
     "name": "stdout",
     "output_type": "stream",
     "text": [
      "(320, 17)\n",
      "(80, 17)\n"
     ]
    }
   ],
   "source": [
    "import pandas as pd\n",
    "import numpy as np\n",
    "\n",
    "df_train = pd.read_csv('../partitions/train.csv', sep=';')\n",
    "df_test = pd.read_csv('../partitions/test.csv', sep=';')\n",
    "\n",
    "matriz_datos_train = feature_extraction(df_train)\n",
    "matriz_datos_test = feature_extraction(df_test)\n",
    "\n",
    "# print(np.shape(matriz_datos_test))\n",
    "\n",
    "import os\n",
    "if not os.path.exists('../features'):\n",
    "    os.mkdir('../features')\n",
    "\n",
    "np.save('../features/matriz_datos_train.npy', matriz_datos_train)\n",
    "np.save('../features/matriz_datos_test.npy', matriz_datos_test)"
   ]
  },
  {
   "cell_type": "code",
   "execution_count": 315,
   "id": "8e7df8ba-2c5a-471c-9902-3698fef7a185",
   "metadata": {
    "tags": []
   },
   "outputs": [],
   "source": [
    "#En esta función extraemos las características necesarias para realizar el modelado\n",
    "def feature_extraction(df):\n",
    "    import cv2\n",
    "    import matplotlib.pyplot as plt\n",
    "    import matplotlib.image as mpimg\n",
    "    import pandas as pd\n",
    "    import numpy as np\n",
    "    from re import search\n",
    "    from skimage.measure import label\n",
    "    from skimage.morphology import convex_hull_image\n",
    "    from skimage.feature import greycomatrix, greycoprops\n",
    "    import math\n",
    "    #Vamos a coger la base de datos de train\n",
    "\n",
    "    fingerprint=[]\n",
    "    for i in range(0,len(df)):\n",
    "    \n",
    "        global marca,erosion\n",
    "       #el siguiente clasifica las imágenes según su base de datos, para buscar la imagen en la carpeta que se encuentra\n",
    "        file = df.ID[i]\n",
    "        if search(\"_2\",file):\n",
    "            img_original = cv2.imread('../sin_marca_agua/'+ file)\n",
    "            img_gray_1 = cv2.cvtColor(img_original, cv2.COLOR_BGR2GRAY)\n",
    "            _, binary_1 = cv2.threshold(img_gray_1,0,1,cv2.THRESH_OTSU)\n",
    "            inverted_image_1 = np.invert(binary_1)\n",
    "        else:\n",
    "      \n",
    "            marca = cv2.imread('../con_marca_agua/' + file)\n",
    "            img_gray_2 = cv2.cvtColor(marca, cv2.COLOR_BGR2GRAY)\n",
    "            _, binary = cv2.threshold(img_gray_2,0,1,cv2.THRESH_OTSU)\n",
    "            imagen_resultante=np.invert(binary) #onvertimos la binarización\n",
    "            kernel=np.ones((3,3),np.uint8)#aplicamos un kernel para seleccionar en la erosión\n",
    "            erosion=cv2.erode(imagen_resultante,kernel)#utilizamos la erosión para no juntar los pixeles blancos\n",
    "           \n",
    "          \n",
    "    \n",
    "    \n",
    "    \n",
    "        #Descriptores de textura\n",
    "        #Extraemos descriptores de textura GLCM\n",
    "        GLCM = greycomatrix(erosion, distances=[2], angles=[90], levels=256, symmetric=True, normed=True)\n",
    "        contraste = greycoprops(GLCM, 'contrast')[0,0]\n",
    "        disimilitud = greycoprops(GLCM, 'dissimilarity')[0,0]\n",
    "        homogeneidad = greycoprops(GLCM, 'homogeneity')[0,0]\n",
    "        ASM = greycoprops(GLCM, 'ASM')[0,0]\n",
    "        energia = greycoprops(GLCM, 'energy')[0,0]\n",
    "        correlacion = greycoprops(GLCM, 'correlation')[0,0]\n",
    "        # Local Binary Patterns (LBP)\n",
    "        from skimage.feature import local_binary_pattern\n",
    "        R=1 # radio\n",
    "        P=8*R # vecinos\n",
    "        lbp_image = local_binary_pattern(erosion, P, R, method='uniform')\n",
    "            \n",
    "        lbp_image = np.uint8(lbp_image)\n",
    "            \n",
    "        hist_lbp = cv2.calcHist([lbp_image.ravel()], [0], None, [P+2], [0, P+2])\n",
    "        hist_lbp = hist_lbp.astype('float')\n",
    "        hist_lbp /= (hist_lbp.sum() + 1e-7)\n",
    "        hist_lbp = hist_lbp.tolist()\n",
    "        hist_lbp = [item for sublist in hist_lbp for item in sublist]\n",
    "    \n",
    "        #plt.imshow(erosion, cmap='gray')\n",
    "        #plt.show()\n",
    "        \n",
    "        #plt.imshow(lbp_image, cmap='gray')\n",
    "        #plt.show()\n",
    "        \n",
    "        #plt.plot(hist_lbp)\n",
    "        #plt.grid(True)\n",
    "        #plt.show()\n",
    "    \n",
    "        features_textura = [contraste, disimilitud,homogeneidad, ASM, energia, correlacion] + hist_lbp # Características bidimensionales\n",
    "            \n",
    "        # Extraer la información de la clase\n",
    "        if df.Class[i] == 'Marca':\n",
    "            etiqueta = [1]\n",
    "        else:\n",
    "            etiqueta = [0]\n",
    "        \n",
    "        fingerprint.append(features_textura + etiqueta)\n",
    "    #    print(np.shape(fingerprint))\n",
    "    \n",
    "    matriz_datos = np.array(fingerprint)\n",
    "    print(np.shape(matriz_datos))\n",
    "    return matriz_datos"
   ]
  }
 ],
 "metadata": {
  "kernelspec": {
   "display_name": "Python 3",
   "language": "python",
   "name": "python3"
  },
  "language_info": {
   "codemirror_mode": {
    "name": "ipython",
    "version": 3
   },
   "file_extension": ".py",
   "mimetype": "text/x-python",
   "name": "python",
   "nbconvert_exporter": "python",
   "pygments_lexer": "ipython3",
   "version": "3.8.8"
  }
 },
 "nbformat": 4,
 "nbformat_minor": 5
}
